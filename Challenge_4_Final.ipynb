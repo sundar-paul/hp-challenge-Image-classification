{
 "cells": [
  {
   "cell_type": "code",
   "execution_count": 1,
   "id": "7002e145",
   "metadata": {},
   "outputs": [],
   "source": [
    "#import data manipulation packages \n",
    "import pandas as pd \n",
    "import numpy as np \n",
    "import os\n",
    "import cv2\n",
    "import matplotlib.pyplot as plt\n",
    "import warnings"
   ]
  },
  {
   "cell_type": "code",
   "execution_count": 2,
   "id": "2b8096c8",
   "metadata": {},
   "outputs": [],
   "source": [
    "#import deep learning tools \n",
    "from tensorflow.keras.layers import Input, Lambda, Dense, Flatten, Dropout, Concatenate\n",
    "from tensorflow.keras.models import Model\n",
    "from tensorflow.keras.preprocessing import image, image_dataset_from_directory\n",
    "from tensorflow.keras.preprocessing.image import ImageDataGenerator\n",
    "from tensorflow.keras.models import Sequential\n",
    "from tensorflow import keras\n",
    "import tensorflow\n",
    "from tensorflow.keras.applications.vgg19 import VGG19,preprocess_input"
   ]
  },
  {
   "cell_type": "code",
   "execution_count": 3,
   "id": "0ddc6e8f",
   "metadata": {},
   "outputs": [
    {
     "name": "stdout",
     "output_type": "stream",
     "text": [
      "WARNING:tensorflow:From C:\\Users\\vsund\\AppData\\Local\\Temp\\ipykernel_17140\\1681329093.py:1: is_gpu_available (from tensorflow.python.framework.test_util) is deprecated and will be removed in a future version.\n",
      "Instructions for updating:\n",
      "Use `tf.config.list_physical_devices('GPU')` instead.\n"
     ]
    },
    {
     "data": {
      "text/plain": [
       "True"
      ]
     },
     "execution_count": 3,
     "metadata": {},
     "output_type": "execute_result"
    }
   ],
   "source": [
    "tensorflow.test.is_gpu_available()"
   ]
  },
  {
   "cell_type": "code",
   "execution_count": 4,
   "id": "c58a696b",
   "metadata": {},
   "outputs": [
    {
     "data": {
      "text/plain": [
       "[PhysicalDevice(name='/physical_device:GPU:0', device_type='GPU')]"
      ]
     },
     "execution_count": 4,
     "metadata": {},
     "output_type": "execute_result"
    }
   ],
   "source": [
    "tensorflow.config.list_physical_devices('GPU')"
   ]
  },
  {
   "cell_type": "code",
   "execution_count": 5,
   "id": "438c41b0",
   "metadata": {},
   "outputs": [
    {
     "name": "stdout",
     "output_type": "stream",
     "text": [
      "Num GPUs Available:  1\n"
     ]
    }
   ],
   "source": [
    "print(\"Num GPUs Available: \", len(tensorflow.config.list_physical_devices('GPU')))"
   ]
  },
  {
   "cell_type": "code",
   "execution_count": 6,
   "id": "facd5ec0",
   "metadata": {},
   "outputs": [],
   "source": [
    "# Set the seed value for experiment reproducibility.\n",
    "seed = 1842\n",
    "tensorflow.random.set_seed(seed)\n",
    "np.random.seed(seed)\n",
    "# Turn off warnings for cleaner looking notebook\n",
    "warnings.simplefilter('ignore')"
   ]
  },
  {
   "cell_type": "markdown",
   "id": "4a3547d3",
   "metadata": {},
   "source": [
    "## Load in the Data"
   ]
  },
  {
   "cell_type": "code",
   "execution_count": 7,
   "id": "251619f4",
   "metadata": {},
   "outputs": [],
   "source": [
    "INPUT_SIZE=224"
   ]
  },
  {
   "cell_type": "code",
   "execution_count": 8,
   "id": "e8edb15c",
   "metadata": {},
   "outputs": [
    {
     "name": "stdout",
     "output_type": "stream",
     "text": [
      "Found 430 images belonging to 2 classes.\n",
      "Found 106 images belonging to 2 classes.\n",
      "Found 100 images belonging to 1 classes.\n"
     ]
    }
   ],
   "source": [
    "#define image dataset \n",
    "#why do we rescale?\n",
    "image_generator = ImageDataGenerator(rescale=1/255, validation_split=0.2) #shear_range =.25, zoom_range =.2, horizontal_flip = True, rotation_range=20)     \n",
    "\n",
    "#Train & Validation Split \n",
    "train_dataset = image_generator.flow_from_directory(batch_size=32,\n",
    "                                                 directory='data_cleaned/Train',\n",
    "                                                 shuffle=True,\n",
    "                                                 target_size=(224, 224), \n",
    "                                                 subset=\"training\",\n",
    "                                                 class_mode='categorical')\n",
    "\n",
    "validation_dataset = image_generator.flow_from_directory(batch_size=32,\n",
    "                                                 directory='data_cleaned/Train',\n",
    "                                                 shuffle=True,\n",
    "                                                 target_size=(224, 224), \n",
    "                                                 subset=\"validation\",\n",
    "                                                 class_mode='categorical')\n",
    "\n",
    "#Organize data for our predictions \n",
    "image_generator_submission = ImageDataGenerator(rescale=1/255) \n",
    "submission = image_generator_submission.flow_from_directory(\n",
    "                                                 directory='data_cleaned/scraped_images',\n",
    "                                                 shuffle=False,\n",
    "                                                 target_size=(224, 224), \n",
    "                                                 class_mode=None)"
   ]
  },
  {
   "cell_type": "code",
   "execution_count": null,
   "id": "f795074c",
   "metadata": {},
   "outputs": [],
   "source": [
    "#show flowers for the first batch\n",
    "batch_1_img = train_dataset[0]\n",
    "for i in range(0,32):\n",
    "    img = batch_1_img[0][i]\n",
    "    lab = batch_1_img[1][i]\n",
    "    plt.imshow(img)\n",
    "    plt.title(lab)\n",
    "    plt.axis('off')\n",
    "    plt.show()"
   ]
  },
  {
   "cell_type": "code",
   "execution_count": null,
   "id": "0059baff",
   "metadata": {},
   "outputs": [],
   "source": []
  },
  {
   "cell_type": "markdown",
   "id": "7569a9b7",
   "metadata": {},
   "source": [
    "## Build Convolutional Neural Net"
   ]
  },
  {
   "cell_type": "code",
   "execution_count": null,
   "id": "3a1813a5",
   "metadata": {},
   "outputs": [],
   "source": [
    "#experiment with Convolutional neural net\n",
    "model = keras.models.Sequential([\n",
    "    keras.layers.Conv2D(64, 3, activation='relu', input_shape = (224, 224,3)),\n",
    "    keras.layers.MaxPooling2D(3,3),\n",
    "    keras.layers.Conv2D(32, 3, activation='relu'),\n",
    "    keras.layers.MaxPooling2D(),\n",
    "    keras.layers.Dropout(0.5),\n",
    "    keras.layers.Flatten(),\n",
    "    keras.layers.Dense(64, activation='relu'),\n",
    "    keras.layers.Dense(2, activation ='softmax')\n",
    "])"
   ]
  },
  {
   "cell_type": "code",
   "execution_count": null,
   "id": "53858efb",
   "metadata": {},
   "outputs": [],
   "source": [
    "model.compile(loss = 'binary_crossentropy',optimizer='adam', metrics = ['accuracy'])\n",
    "\n",
    "callback = keras.callbacks.EarlyStopping(monitor='val_loss',\n",
    "                                         patience=3,\n",
    "                                         restore_best_weights=True)"
   ]
  },
  {
   "cell_type": "code",
   "execution_count": null,
   "id": "5d4024c7",
   "metadata": {},
   "outputs": [],
   "source": [
    "model.fit(train_dataset, epochs=20, validation_data=validation_dataset, callbacks=callback)\n",
    "#save model\n",
    "#early stopping"
   ]
  },
  {
   "cell_type": "code",
   "execution_count": null,
   "id": "57338edc",
   "metadata": {},
   "outputs": [],
   "source": [
    "loss, accuracy = model.evaluate(validation_dataset)\n",
    "print(\"Loss:\", loss)\n",
    "print(\"Accuracy:\", accuracy)"
   ]
  },
  {
   "cell_type": "code",
   "execution_count": null,
   "id": "42aa8a54",
   "metadata": {},
   "outputs": [],
   "source": [
    "#model.predict(submission)"
   ]
  },
  {
   "cell_type": "markdown",
   "id": "4469577d",
   "metadata": {},
   "source": [
    "## Data Augmentation"
   ]
  },
  {
   "cell_type": "code",
   "execution_count": null,
   "id": "4eb16181",
   "metadata": {},
   "outputs": [],
   "source": [
    "[\"Recall\",\"Precision\"]"
   ]
  },
  {
   "cell_type": "code",
   "execution_count": 9,
   "id": "0a191779",
   "metadata": {},
   "outputs": [
    {
     "name": "stdout",
     "output_type": "stream",
     "text": [
      "WARNING:tensorflow:Using a while_loop for converting RngReadAndSkip\n",
      "WARNING:tensorflow:Using a while_loop for converting Bitcast\n",
      "WARNING:tensorflow:Using a while_loop for converting Bitcast\n",
      "WARNING:tensorflow:Using a while_loop for converting StatelessRandomUniformFullIntV2\n",
      "WARNING:tensorflow:Using a while_loop for converting StatelessRandomGetKeyCounter\n",
      "WARNING:tensorflow:Using a while_loop for converting StatelessRandomUniformV2\n",
      "WARNING:tensorflow:Using a while_loop for converting AdjustContrastv2\n"
     ]
    }
   ],
   "source": [
    "data_augmentation = keras.models.Sequential([\n",
    "    keras.layers.RandomFlip(\"horizontal\", input_shape = (224, 224,3)),\n",
    "    keras.layers.RandomRotation(0.1),\n",
    "    keras.layers.RandomZoom(0.1),\n",
    "    keras.layers.RandomContrast(0.1),\n",
    "])"
   ]
  },
  {
   "cell_type": "code",
   "execution_count": null,
   "id": "1dd92d62",
   "metadata": {},
   "outputs": [],
   "source": [
    "model_a = keras.Sequential([data_augmentation,model])"
   ]
  },
  {
   "cell_type": "code",
   "execution_count": null,
   "id": "3610f252",
   "metadata": {},
   "outputs": [],
   "source": [
    "model_a.compile(loss = 'binary_crossentropy',optimizer='adam', metrics = ['accuracy'])"
   ]
  },
  {
   "cell_type": "code",
   "execution_count": null,
   "id": "2500bb3b",
   "metadata": {},
   "outputs": [],
   "source": [
    "model_a.fit(train_dataset, epochs=20, validation_data=validation_dataset, callbacks=callback)\n",
    "#save model\n",
    "#early stopping"
   ]
  },
  {
   "cell_type": "code",
   "execution_count": null,
   "id": "a49f43dc",
   "metadata": {},
   "outputs": [],
   "source": [
    "loss, accuracy = model_a.evaluate(validation_dataset)\n",
    "print(\"Loss:\", loss)\n",
    "print(\"Accuracy:\", accuracy)"
   ]
  },
  {
   "cell_type": "markdown",
   "id": "dde7586f",
   "metadata": {},
   "source": [
    "## Hyperparameter tuning"
   ]
  },
  {
   "cell_type": "code",
   "execution_count": 10,
   "id": "ab800a67",
   "metadata": {},
   "outputs": [],
   "source": [
    "import keras_tuner\n",
    "from keras_tuner.tuners import RandomSearch"
   ]
  },
  {
   "cell_type": "code",
   "execution_count": 16,
   "id": "eedebf65",
   "metadata": {},
   "outputs": [],
   "source": [
    "train_images = []\n",
    "train_lables = []\n",
    "\n",
    "for i in range(len(train_dataset)):\n",
    "    batch = train_dataset[i]\n",
    "    for j in range(len(batch[0])):\n",
    "        train_images.append(batch[0][j])\n",
    "        train_lables.append(batch[1][j])\n",
    "\n",
    "test_images = []\n",
    "test_lables = []\n",
    "\n",
    "for i in range(len(validation_dataset)):\n",
    "    batch = validation_dataset[i]\n",
    "    for j in range(len(batch[0])):\n",
    "        test_images.append(batch[0][j])\n",
    "        test_lables.append(batch[1][j])\n",
    "        \n",
    "train_images = np.array(train_images)\n",
    "train_lables = np.array(train_lables)\n",
    "test_images = np.array(test_images)\n",
    "test_lables = np.array(test_lables)"
   ]
  },
  {
   "cell_type": "code",
   "execution_count": 12,
   "id": "d9769342",
   "metadata": {},
   "outputs": [],
   "source": [
    "def build_model(hp):\n",
    "    model = keras.Sequential()\n",
    "    #model.add(data_augmentation)\n",
    "    model.add(keras.layers.AveragePooling2D(4,2))\n",
    "\n",
    "    for i in range(hp.Int(\"Conv Layers\", min_value=0, max_value=3)):\n",
    "        model.add(keras.layers.Conv2D(hp.Choice(f\"layer_{i}_filters\", [16,32,64]), 3 ,activation='relu'))\n",
    "        model.add(keras.layers.MaxPool2D(2,2))\n",
    "    \n",
    "\n",
    "    model.add(keras.layers.Dropout(0.5))\n",
    "    model.add(keras.layers.Flatten())\n",
    "\n",
    "    model.add(keras.layers.Dense(hp.Choice(\"Dense layer\", [64, 128, 256, 512, 1024]), activation='relu'))\n",
    "\n",
    "    model.add(keras.layers.Dense(2, activation='softmax'))\n",
    "\n",
    "    model.compile(optimizer='adam',\n",
    "              loss='binary_crossentropy',\n",
    "              metrics=['accuracy'])\n",
    "\n",
    "    return model\n",
    "\n",
    "tuner = RandomSearch(\n",
    "    build_model,\n",
    "    objective='val_loss',\n",
    "    overwrite=True,\n",
    "    max_trials=32,\n",
    ")"
   ]
  },
  {
   "cell_type": "code",
   "execution_count": 13,
   "id": "45551970",
   "metadata": {
    "scrolled": true
   },
   "outputs": [
    {
     "name": "stdout",
     "output_type": "stream",
     "text": [
      "Trial 32 Complete [00h 00m 08s]\n",
      "val_loss: 0.16318279504776\n",
      "\n",
      "Best val_loss So Far: 0.0909949541091919\n",
      "Total elapsed time: 00h 09m 17s\n",
      "INFO:tensorflow:Oracle triggered exit\n"
     ]
    }
   ],
   "source": [
    "tuner.search(train_images, train_lables, validation_data=(test_images, test_lables), epochs=10, batch_size=32)"
   ]
  },
  {
   "cell_type": "code",
   "execution_count": 14,
   "id": "b2bf4d37",
   "metadata": {},
   "outputs": [],
   "source": [
    "best_model = tuner.get_best_models()[0]"
   ]
  },
  {
   "cell_type": "code",
   "execution_count": 18,
   "id": "591ad718",
   "metadata": {},
   "outputs": [
    {
     "name": "stdout",
     "output_type": "stream",
     "text": [
      "4/4 [==============================] - 1s 34ms/step - loss: 0.0910 - accuracy: 0.9717\n"
     ]
    },
    {
     "data": {
      "text/plain": [
       "[0.0909949541091919, 0.9716981053352356]"
      ]
     },
     "execution_count": 18,
     "metadata": {},
     "output_type": "execute_result"
    }
   ],
   "source": [
    "best_model.evaluate(test_images, test_lables)"
   ]
  },
  {
   "cell_type": "code",
   "execution_count": 23,
   "id": "1d246572",
   "metadata": {},
   "outputs": [
    {
     "name": "stdout",
     "output_type": "stream",
     "text": [
      "4/4 [==============================] - 0s 29ms/step - loss: 0.0910 - accuracy: 0.9717\n",
      "Loss: 0.0909949541091919\n",
      "Accuracy: 0.9716981053352356\n"
     ]
    }
   ],
   "source": [
    "loss, accuracy = best_model.evaluate(validation_dataset)\n",
    "print(\"Loss:\", loss)\n",
    "print(\"Accuracy:\", accuracy)"
   ]
  },
  {
   "cell_type": "code",
   "execution_count": 19,
   "id": "8e6da466",
   "metadata": {},
   "outputs": [
    {
     "name": "stdout",
     "output_type": "stream",
     "text": [
      "Model: \"sequential\"\n",
      "_________________________________________________________________\n",
      " Layer (type)                Output Shape              Param #   \n",
      "=================================================================\n",
      " average_pooling2d (AverageP  (None, 111, 111, 3)      0         \n",
      " ooling2D)                                                       \n",
      "                                                                 \n",
      " conv2d (Conv2D)             (None, 109, 109, 64)      1792      \n",
      "                                                                 \n",
      " max_pooling2d (MaxPooling2D  (None, 54, 54, 64)       0         \n",
      " )                                                               \n",
      "                                                                 \n",
      " conv2d_1 (Conv2D)           (None, 52, 52, 32)        18464     \n",
      "                                                                 \n",
      " max_pooling2d_1 (MaxPooling  (None, 26, 26, 32)       0         \n",
      " 2D)                                                             \n",
      "                                                                 \n",
      " dropout (Dropout)           (None, 26, 26, 32)        0         \n",
      "                                                                 \n",
      " flatten (Flatten)           (None, 21632)             0         \n",
      "                                                                 \n",
      " dense (Dense)               (None, 1024)              22152192  \n",
      "                                                                 \n",
      " dense_1 (Dense)             (None, 2)                 2050      \n",
      "                                                                 \n",
      "=================================================================\n",
      "Total params: 22,174,498\n",
      "Trainable params: 22,174,498\n",
      "Non-trainable params: 0\n",
      "_________________________________________________________________\n"
     ]
    }
   ],
   "source": [
    "best_model.summary()"
   ]
  },
  {
   "cell_type": "markdown",
   "id": "730e05a7",
   "metadata": {},
   "source": [
    "## Transfer Learning"
   ]
  },
  {
   "cell_type": "code",
   "execution_count": 24,
   "id": "d8c66e1a",
   "metadata": {},
   "outputs": [],
   "source": [
    "vgg = VGG19(input_shape=(224,224,3),weights='imagenet',include_top=False)"
   ]
  },
  {
   "cell_type": "code",
   "execution_count": 25,
   "id": "6a24d56e",
   "metadata": {},
   "outputs": [],
   "source": [
    "for layer in vgg.layers:\n",
    "    layer.trainable = False"
   ]
  },
  {
   "cell_type": "code",
   "execution_count": 28,
   "id": "08965d9b",
   "metadata": {},
   "outputs": [],
   "source": [
    "x = Flatten()(vgg.output)\n",
    "prediction = keras.models.Sequential([\n",
    "    keras.layers.Dense(2, activation ='softmax')\n",
    "])(x)\n",
    "\n",
    "modelvgg = Model(inputs=vgg.input, outputs=prediction)"
   ]
  },
  {
   "cell_type": "code",
   "execution_count": 40,
   "id": "5ad685c6",
   "metadata": {},
   "outputs": [
    {
     "name": "stdout",
     "output_type": "stream",
     "text": [
      "Model: \"model_1\"\n",
      "_________________________________________________________________\n",
      " Layer (type)                Output Shape              Param #   \n",
      "=================================================================\n",
      " input_1 (InputLayer)        [(None, 224, 224, 3)]     0         \n",
      "                                                                 \n",
      " block1_conv1 (Conv2D)       (None, 224, 224, 64)      1792      \n",
      "                                                                 \n",
      " block1_conv2 (Conv2D)       (None, 224, 224, 64)      36928     \n",
      "                                                                 \n",
      " block1_pool (MaxPooling2D)  (None, 112, 112, 64)      0         \n",
      "                                                                 \n",
      " block2_conv1 (Conv2D)       (None, 112, 112, 128)     73856     \n",
      "                                                                 \n",
      " block2_conv2 (Conv2D)       (None, 112, 112, 128)     147584    \n",
      "                                                                 \n",
      " block2_pool (MaxPooling2D)  (None, 56, 56, 128)       0         \n",
      "                                                                 \n",
      " block3_conv1 (Conv2D)       (None, 56, 56, 256)       295168    \n",
      "                                                                 \n",
      " block3_conv2 (Conv2D)       (None, 56, 56, 256)       590080    \n",
      "                                                                 \n",
      " block3_conv3 (Conv2D)       (None, 56, 56, 256)       590080    \n",
      "                                                                 \n",
      " block3_conv4 (Conv2D)       (None, 56, 56, 256)       590080    \n",
      "                                                                 \n",
      " block3_pool (MaxPooling2D)  (None, 28, 28, 256)       0         \n",
      "                                                                 \n",
      " block4_conv1 (Conv2D)       (None, 28, 28, 512)       1180160   \n",
      "                                                                 \n",
      " block4_conv2 (Conv2D)       (None, 28, 28, 512)       2359808   \n",
      "                                                                 \n",
      " block4_conv3 (Conv2D)       (None, 28, 28, 512)       2359808   \n",
      "                                                                 \n",
      " block4_conv4 (Conv2D)       (None, 28, 28, 512)       2359808   \n",
      "                                                                 \n",
      " block4_pool (MaxPooling2D)  (None, 14, 14, 512)       0         \n",
      "                                                                 \n",
      " block5_conv1 (Conv2D)       (None, 14, 14, 512)       2359808   \n",
      "                                                                 \n",
      " block5_conv2 (Conv2D)       (None, 14, 14, 512)       2359808   \n",
      "                                                                 \n",
      " block5_conv3 (Conv2D)       (None, 14, 14, 512)       2359808   \n",
      "                                                                 \n",
      " block5_conv4 (Conv2D)       (None, 14, 14, 512)       2359808   \n",
      "                                                                 \n",
      " block5_pool (MaxPooling2D)  (None, 7, 7, 512)         0         \n",
      "                                                                 \n",
      " flatten_2 (Flatten)         (None, 25088)             0         \n",
      "                                                                 \n",
      " sequential_2 (Sequential)   (None, 2)                 50178     \n",
      "                                                                 \n",
      "=================================================================\n",
      "Total params: 20,074,562\n",
      "Trainable params: 50,178\n",
      "Non-trainable params: 20,024,384\n",
      "_________________________________________________________________\n"
     ]
    }
   ],
   "source": [
    "modelvgg.summary()"
   ]
  },
  {
   "cell_type": "code",
   "execution_count": 34,
   "id": "81c6eb00",
   "metadata": {},
   "outputs": [],
   "source": [
    "modelvgg.compile(\n",
    "  loss='binary_crossentropy',\n",
    "  optimizer=\"adam\",\n",
    "  metrics=['accuracy']\n",
    ")\n",
    "callback = keras.callbacks.EarlyStopping(monitor='val_loss',\n",
    "                                            patience=3,\n",
    "                                            restore_best_weights=True)"
   ]
  },
  {
   "cell_type": "code",
   "execution_count": 35,
   "id": "89253993",
   "metadata": {},
   "outputs": [
    {
     "name": "stdout",
     "output_type": "stream",
     "text": [
      "Epoch 1/10\n",
      "14/14 [==============================] - 8s 379ms/step - loss: 0.6070 - accuracy: 0.7349 - val_loss: 0.4363 - val_accuracy: 0.8113\n",
      "Epoch 2/10\n",
      "14/14 [==============================] - 3s 189ms/step - loss: 0.2104 - accuracy: 0.9349 - val_loss: 0.3336 - val_accuracy: 0.8491\n",
      "Epoch 3/10\n",
      "14/14 [==============================] - 3s 196ms/step - loss: 0.1108 - accuracy: 0.9767 - val_loss: 0.2030 - val_accuracy: 0.9434\n",
      "Epoch 4/10\n",
      "14/14 [==============================] - 3s 196ms/step - loss: 0.0751 - accuracy: 0.9884 - val_loss: 0.1863 - val_accuracy: 0.9340\n",
      "Epoch 5/10\n",
      "14/14 [==============================] - 3s 200ms/step - loss: 0.0509 - accuracy: 1.0000 - val_loss: 0.1857 - val_accuracy: 0.9434\n",
      "Epoch 6/10\n",
      "14/14 [==============================] - 3s 194ms/step - loss: 0.0352 - accuracy: 1.0000 - val_loss: 0.1712 - val_accuracy: 0.9528\n",
      "Epoch 7/10\n",
      "14/14 [==============================] - 3s 189ms/step - loss: 0.0284 - accuracy: 1.0000 - val_loss: 0.1708 - val_accuracy: 0.9528\n",
      "Epoch 8/10\n",
      "14/14 [==============================] - 3s 182ms/step - loss: 0.0242 - accuracy: 1.0000 - val_loss: 0.1726 - val_accuracy: 0.9528\n",
      "Epoch 9/10\n",
      "14/14 [==============================] - 3s 182ms/step - loss: 0.0211 - accuracy: 1.0000 - val_loss: 0.1660 - val_accuracy: 0.9528\n",
      "Epoch 10/10\n",
      "14/14 [==============================] - 2s 177ms/step - loss: 0.0180 - accuracy: 1.0000 - val_loss: 0.1708 - val_accuracy: 0.9528\n"
     ]
    },
    {
     "data": {
      "text/plain": [
       "<keras.callbacks.History at 0x24b30debf70>"
      ]
     },
     "execution_count": 35,
     "metadata": {},
     "output_type": "execute_result"
    }
   ],
   "source": [
    "modelvgg.fit(train_dataset, epochs=10, validation_data=validation_dataset, callbacks=callback)"
   ]
  },
  {
   "cell_type": "code",
   "execution_count": 36,
   "id": "e8f41329",
   "metadata": {},
   "outputs": [
    {
     "name": "stdout",
     "output_type": "stream",
     "text": [
      "4/4 [==============================] - 0s 103ms/step - loss: 0.1708 - accuracy: 0.9528\n",
      "Loss:  0.17076781392097473\n",
      "Accuracy:  0.9528301954269409\n"
     ]
    }
   ],
   "source": [
    "loss, accuracy = modelvgg.evaluate(validation_dataset)\n",
    "print(\"Loss: \", loss)\n",
    "print(\"Accuracy: \", accuracy)"
   ]
  },
  {
   "cell_type": "code",
   "execution_count": 41,
   "id": "71e73ef0",
   "metadata": {},
   "outputs": [
    {
     "data": {
      "text/html": [
       "<div>\n",
       "<style scoped>\n",
       "    .dataframe tbody tr th:only-of-type {\n",
       "        vertical-align: middle;\n",
       "    }\n",
       "\n",
       "    .dataframe tbody tr th {\n",
       "        vertical-align: top;\n",
       "    }\n",
       "\n",
       "    .dataframe thead th {\n",
       "        text-align: right;\n",
       "    }\n",
       "</style>\n",
       "<table border=\"1\" class=\"dataframe\">\n",
       "  <thead>\n",
       "    <tr style=\"text-align: right;\">\n",
       "      <th></th>\n",
       "      <th>images</th>\n",
       "      <th>la_eterna</th>\n",
       "      <th>other_flower</th>\n",
       "    </tr>\n",
       "  </thead>\n",
       "  <tbody>\n",
       "    <tr>\n",
       "      <th>0</th>\n",
       "      <td>img_00</td>\n",
       "      <td>0.5</td>\n",
       "      <td>0.5</td>\n",
       "    </tr>\n",
       "    <tr>\n",
       "      <th>1</th>\n",
       "      <td>img_01</td>\n",
       "      <td>0.5</td>\n",
       "      <td>0.5</td>\n",
       "    </tr>\n",
       "    <tr>\n",
       "      <th>2</th>\n",
       "      <td>img_02</td>\n",
       "      <td>0.5</td>\n",
       "      <td>0.5</td>\n",
       "    </tr>\n",
       "    <tr>\n",
       "      <th>3</th>\n",
       "      <td>img_03</td>\n",
       "      <td>0.5</td>\n",
       "      <td>0.5</td>\n",
       "    </tr>\n",
       "    <tr>\n",
       "      <th>4</th>\n",
       "      <td>img_04</td>\n",
       "      <td>0.5</td>\n",
       "      <td>0.5</td>\n",
       "    </tr>\n",
       "  </tbody>\n",
       "</table>\n",
       "</div>"
      ],
      "text/plain": [
       "   images  la_eterna  other_flower\n",
       "0  img_00        0.5           0.5\n",
       "1  img_01        0.5           0.5\n",
       "2  img_02        0.5           0.5\n",
       "3  img_03        0.5           0.5\n",
       "4  img_04        0.5           0.5"
      ]
     },
     "execution_count": 41,
     "metadata": {},
     "output_type": "execute_result"
    }
   ],
   "source": [
    "onlyfiles = [f.split('.')[0] for f in os.listdir(os.path.join('data_cleaned/scraped_images/image_files')) if os.path.isfile(os.path.join(os.path.join('data_cleaned/scraped_images/image_files'), f))]\n",
    "submission_df = pd.DataFrame(onlyfiles, columns =['images'])\n",
    "submission_df[['la_eterna','other_flower']] = .5\n",
    "submission_df.head()"
   ]
  },
  {
   "cell_type": "code",
   "execution_count": 42,
   "id": "7a11b8b9",
   "metadata": {},
   "outputs": [],
   "source": [
    "submission_df.to_csv('submission_file_vgg.csv', index = False)"
   ]
  }
 ],
 "metadata": {
  "kernelspec": {
   "display_name": "Python 3.9.12 ('hpchallenge')",
   "language": "python",
   "name": "python3"
  },
  "language_info": {
   "codemirror_mode": {
    "name": "ipython",
    "version": 3
   },
   "file_extension": ".py",
   "mimetype": "text/x-python",
   "name": "python",
   "nbconvert_exporter": "python",
   "pygments_lexer": "ipython3",
   "version": "3.9.12"
  },
  "vscode": {
   "interpreter": {
    "hash": "04aa36898d15df5da8341abfedff5612fed0ff76ee288a917d7feb2a4fe5e446"
   }
  }
 },
 "nbformat": 4,
 "nbformat_minor": 5
}
